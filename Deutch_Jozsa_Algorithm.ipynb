{
 "cells": [
  {
   "cell_type": "code",
   "execution_count": 1,
   "metadata": {},
   "outputs": [],
   "source": [
    "from qiskit import*\n",
    "from qiskit.visualization import plot_histogram"
   ]
  },
  {
   "cell_type": "markdown",
   "metadata": {},
   "source": [
    "Deutch Jozsa Algorithm:To decide whether a function is  balanced or  imbalanced in single evaluation\n",
    "This implementation is for 2 qubits.\n",
    "The extra qubit in circuit is for phase kickback"
   ]
  },
  {
   "cell_type": "code",
   "execution_count": 12,
   "metadata": {},
   "outputs": [],
   "source": [
    "qr=QuantumRegister(3)\n",
    "cr=ClassicalRegister(3)\n",
    "circuit=QuantumCircuit(qr,cr)"
   ]
  },
  {
   "cell_type": "code",
   "execution_count": 13,
   "metadata": {},
   "outputs": [
    {
     "data": {
      "text/plain": [
       "<qiskit.circuit.instructionset.InstructionSet at 0x1ed02137510>"
      ]
     },
     "execution_count": 13,
     "metadata": {},
     "output_type": "execute_result"
    }
   ],
   "source": [
    "circuit.x(qr[2])\n",
    "circuit.h(qr[0])\n",
    "circuit.h(qr[1])\n",
    "circuit.h(qr[2])\n",
    "circuit.barrier()"
   ]
  },
  {
   "cell_type": "code",
   "execution_count": 14,
   "metadata": {},
   "outputs": [],
   "source": [
    "c=1# assuming c=0 for balanced and c=1 for imbalanced"
   ]
  },
  {
   "cell_type": "code",
   "execution_count": 15,
   "metadata": {},
   "outputs": [],
   "source": [
    "#Oracle definition\n",
    "if c==1:\n",
    "    circuit.i(qr[2])\n",
    "else:\n",
    "    circuit.cx(qr[0],qr[2])\n",
    "    circuit.cx(qr[1],qr[2])\n",
    "    #so on if more qubits\n"
   ]
  },
  {
   "cell_type": "code",
   "execution_count": 16,
   "metadata": {},
   "outputs": [
    {
     "data": {
      "text/plain": [
       "<qiskit.circuit.instructionset.InstructionSet at 0x1ed5bfa1630>"
      ]
     },
     "execution_count": 16,
     "metadata": {},
     "output_type": "execute_result"
    }
   ],
   "source": [
    "circuit.barrier()\n",
    "circuit.h(qr[0])\n",
    "circuit.h(qr[1])"
   ]
  },
  {
   "cell_type": "code",
   "execution_count": 17,
   "metadata": {},
   "outputs": [
    {
     "data": {
      "text/plain": [
       "<qiskit.circuit.instructionset.InstructionSet at 0x1ed0211aea0>"
      ]
     },
     "execution_count": 17,
     "metadata": {},
     "output_type": "execute_result"
    }
   ],
   "source": [
    "circuit.measure(qr[0],cr[0])\n",
    "circuit.measure(qr[1],cr[1])\n"
   ]
  },
  {
   "cell_type": "code",
   "execution_count": 10,
   "metadata": {},
   "outputs": [
    {
     "data": {
      "text/html": [
       "<pre style=\"word-wrap: normal;white-space: pre;background: #fff0;line-height: 1.1;font-family: &quot;Courier New&quot;,Courier,monospace\">      ┌───┐      ░            ░ ┌───┐┌─┐   \n",
       "q0_0: ┤ H ├──────░───■────────░─┤ H ├┤M├───\n",
       "      ├───┤      ░   │        ░ ├───┤└╥┘┌─┐\n",
       "q0_1: ┤ H ├──────░───┼────■───░─┤ H ├─╫─┤M├\n",
       "      ├───┤┌───┐ ░ ┌─┴─┐┌─┴─┐ ░ └───┘ ║ └╥┘\n",
       "q0_2: ┤ X ├┤ H ├─░─┤ X ├┤ X ├─░───────╫──╫─\n",
       "      └───┘└───┘ ░ └───┘└───┘ ░       ║  ║ \n",
       "c0: 3/════════════════════════════════╩══╩═\n",
       "                                      0  1 </pre>"
      ],
      "text/plain": [
       "      ┌───┐      ░            ░ ┌───┐┌─┐   \n",
       "q0_0: ┤ H ├──────░───■────────░─┤ H ├┤M├───\n",
       "      ├───┤      ░   │        ░ ├───┤└╥┘┌─┐\n",
       "q0_1: ┤ H ├──────░───┼────■───░─┤ H ├─╫─┤M├\n",
       "      ├───┤┌───┐ ░ ┌─┴─┐┌─┴─┐ ░ └───┘ ║ └╥┘\n",
       "q0_2: ┤ X ├┤ H ├─░─┤ X ├┤ X ├─░───────╫──╫─\n",
       "      └───┘└───┘ ░ └───┘└───┘ ░       ║  ║ \n",
       "c0: 3/════════════════════════════════╩══╩═\n",
       "                                      0  1 "
      ]
     },
     "execution_count": 10,
     "metadata": {},
     "output_type": "execute_result"
    }
   ],
   "source": [
    "circuit.draw()\n",
    "#for balanecd function"
   ]
  },
  {
   "cell_type": "code",
   "execution_count": 11,
   "metadata": {},
   "outputs": [
    {
     "name": "stdout",
     "output_type": "stream",
     "text": [
      "{'011': 1024}\n"
     ]
    },
    {
     "data": {
      "image/png": "[encoded data removed]",
      "text/plain": [
       "<Figure size 504x360 with 1 Axes>"
      ]
     },
     "execution_count": 11,
     "metadata": {},
     "output_type": "execute_result"
    }
   ],
   "source": [
    "\n",
    "aer_sim = Aer.get_backend('aer_simulator')\n",
    "result = aer_sim.run(circuit).result()\n",
    "counts = result.get_counts(circuit)\n",
    "print(counts)\n",
    "plot_histogram(counts)\n"
   ]
  },
  {
   "cell_type": "code",
   "execution_count": 18,
   "metadata": {},
   "outputs": [
    {
     "data": {
      "text/html": [
       "<pre style=\"word-wrap: normal;white-space: pre;background: #fff0;line-height: 1.1;font-family: &quot;Courier New&quot;,Courier,monospace\">      ┌───┐      ░       ░ ┌───┐┌─┐   \n",
       "q1_0: ┤ H ├──────░───────░─┤ H ├┤M├───\n",
       "      ├───┤      ░       ░ ├───┤└╥┘┌─┐\n",
       "q1_1: ┤ H ├──────░───────░─┤ H ├─╫─┤M├\n",
       "      ├───┤┌───┐ ░ ┌───┐ ░ └───┘ ║ └╥┘\n",
       "q1_2: ┤ X ├┤ H ├─░─┤ I ├─░───────╫──╫─\n",
       "      └───┘└───┘ ░ └───┘ ░       ║  ║ \n",
       "c1: 3/═══════════════════════════╩══╩═\n",
       "                                 0  1 </pre>"
      ],
      "text/plain": [
       "      ┌───┐      ░       ░ ┌───┐┌─┐   \n",
       "q1_0: ┤ H ├──────░───────░─┤ H ├┤M├───\n",
       "      ├───┤      ░       ░ ├───┤└╥┘┌─┐\n",
       "q1_1: ┤ H ├──────░───────░─┤ H ├─╫─┤M├\n",
       "      ├───┤┌───┐ ░ ┌───┐ ░ └───┘ ║ └╥┘\n",
       "q1_2: ┤ X ├┤ H ├─░─┤ I ├─░───────╫──╫─\n",
       "      └───┘└───┘ ░ └───┘ ░       ║  ║ \n",
       "c1: 3/═══════════════════════════╩══╩═\n",
       "                                 0  1 "
      ]
     },
     "execution_count": 18,
     "metadata": {},
     "output_type": "execute_result"
    }
   ],
   "source": [
    "circuit.draw()\n",
    "#for imbalanecd function"
   ]
  },
  {
   "cell_type": "code",
   "execution_count": 19,
   "metadata": {},
   "outputs": [
    {
     "name": "stdout",
     "output_type": "stream",
     "text": [
      "{'000': 1024}\n"
     ]
    },
    {
     "data": {
      "image/png": "[encoded data removed]",
      "text/plain": [
       "<Figure size 504x360 with 1 Axes>"
      ]
     },
     "execution_count": 19,
     "metadata": {},
     "output_type": "execute_result"
    }
   ],
   "source": [
    "\n",
    "aer_sim = Aer.get_backend('aer_simulator')\n",
    "result = aer_sim.run(circuit).result()\n",
    "counts = result.get_counts(circuit)\n",
    "print(counts)\n",
    "plot_histogram(counts)"
   ]
  }
 ],
 "metadata": {
  "kernelspec": {
   "display_name": "py36",
   "language": "python",
   "name": "python3"
  },
  "language_info": {
   "codemirror_mode": {
    "name": "ipython",
    "version": 3
   },
   "file_extension": ".py",
   "mimetype": "text/x-python",
   "name": "python",
   "nbconvert_exporter": "python",
   "pygments_lexer": "ipython3",
   "version": "3.6.13"
  }
 },
 "nbformat": 4,
 "nbformat_minor": 2
}
