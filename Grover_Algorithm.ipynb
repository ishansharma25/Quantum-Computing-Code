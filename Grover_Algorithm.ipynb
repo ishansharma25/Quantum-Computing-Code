{
 "cells": [
  {
   "cell_type": "code",
   "execution_count": 9,
   "metadata": {},
   "outputs": [],
   "source": [
    "from qiskit import*\n",
    "from qiskit.visualization import plot_histogram\n",
    "from qiskit.circuit.library import MCMT, ZGate\n",
    "import numpy as np"
   ]
  },
  {
   "cell_type": "markdown",
   "metadata": {},
   "source": [
    "Grovers Algorithm\n",
    "Searching algorithm\n",
    "1)Rotate |s> by theta in clockwise direction by Us oracle\n",
    "2)anti clockwise rotaion by UfUs|s> oracle\n",
    "Increase Probability of finding the element\n",
    "number of iterations =(pi/4)*sqrt(N/M)\n",
    "A three qubit implementation"
   ]
  },
  {
   "cell_type": "code",
   "execution_count": 5,
   "metadata": {},
   "outputs": [],
   "source": [
    "qr = QuantumRegister(3) \n",
    "cr=ClassicalRegister(3)\n",
    "circuit = QuantumCircuit(qr,cr)"
   ]
  },
  {
   "cell_type": "code",
   "execution_count": 6,
   "metadata": {},
   "outputs": [
    {
     "data": {
      "text/plain": [
       "<qiskit.circuit.instructionset.InstructionSet at 0x2c5ca11c120>"
      ]
     },
     "execution_count": 6,
     "metadata": {},
     "output_type": "execute_result"
    }
   ],
   "source": [
    "circuit.h(qr[0])\n",
    "circuit.h(qr[1])\n",
    "circuit.h(qr[2])\n",
    "circuit.barrier()"
   ]
  },
  {
   "cell_type": "markdown",
   "metadata": {},
   "source": [
    "Negate your solution element"
   ]
  },
  {
   "cell_type": "code",
   "execution_count": 8,
   "metadata": {},
   "outputs": [
    {
     "name": "stdout",
     "output_type": "stream",
     "text": [
      "The number of iterations are: 1\n"
     ]
    }
   ],
   "source": [
    "#Define what you want\n",
    "numqubits=3\n",
    "solutions=[\"101\",\"100\"]\n",
    "M=len(solutions)#number of solution\n",
    "n=int(3.14*np.sqrt(2**numqubits/M))//4\n",
    "print(\"The number of iterations are:\"+\" \"+str(n))"
   ]
  },
  {
   "cell_type": "markdown",
   "metadata": {},
   "source": [
    "step1:Hadamard transform on all qubits\n",
    "step2:Apply an X gate on all qubits\n",
    "step3:Apply a multi-controlled Z gate (which flips the sign of the state only if all qubits are in the state |1>)\n",
    "Step4:Apply an X gate on all qubits\n",
    "step 5:Hadamard transform on all qubits"
   ]
  },
  {
   "cell_type": "code",
   "execution_count": 11,
   "metadata": {},
   "outputs": [],
   "source": [
    "for i in range(n):#we need to iterate till convergence\n",
    "    for j in solutions:#rotating in clockwise\n",
    "        for k in range(len(j)):\n",
    "            if j[k]=='0':\n",
    "                circuit.x(qr[k])\n",
    "        circuit.compose(MCMT(ZGate(),2, 1), inplace=True)\n",
    "        circuit.barrier()\n",
    "        for k in range(len(j)):\n",
    "            if j[k]=='0':\n",
    "                circuit.x(qr[k])\n",
    "    #grovers oracle            \n",
    "    circuit.h(qr) \n",
    "    circuit.x(qr)        \n",
    "    circuit.h(2)        \n",
    "    circuit.mcx([0,1],2)\n",
    "    circuit.h(2)\n",
    "    circuit.x(qr) \n",
    "    circuit.h(qr)\n",
    "    circuit.barrier()            \n"
   ]
  },
  {
   "cell_type": "code",
   "execution_count": 12,
   "metadata": {},
   "outputs": [],
   "source": [
    "circuit.measure_all()"
   ]
  },
  {
   "cell_type": "code",
   "execution_count": 13,
   "metadata": {},
   "outputs": [
    {
     "data": {
      "text/html": [
       "<pre style=\"word-wrap: normal;white-space: pre;background: #fff0;line-height: 1.1;font-family: &quot;Courier New&quot;,Courier,monospace\">        ┌───┐ ░          ░               ░ ┌───┐┌───┐               ┌───┐┌───┐»\n",
       "  q0_0: ┤ H ├─░───────■──░────────────■──░─┤ H ├┤ X ├────────────■──┤ X ├┤ H ├»\n",
       "        ├───┤ ░ ┌───┐ │  ░ ┌───┐┌───┐ │  ░ ├───┤├───┤┌───┐       │  ├───┤├───┤»\n",
       "  q0_1: ┤ H ├─░─┤ X ├─■──░─┤ X ├┤ X ├─■──░─┤ X ├┤ H ├┤ X ├───────■──┤ X ├┤ H ├»\n",
       "        ├───┤ ░ └───┘ │  ░ ├───┤└───┘ │  ░ ├───┤├───┤├───┤┌───┐┌─┴─┐├───┤├───┤»\n",
       "  q0_2: ┤ H ├─░───────■──░─┤ X ├──────■──░─┤ X ├┤ H ├┤ X ├┤ H ├┤ X ├┤ H ├┤ X ├»\n",
       "        └───┘ ░          ░ └───┘         ░ └───┘└───┘└───┘└───┘└───┘└───┘└───┘»\n",
       "  c0: 3/══════════════════════════════════════════════════════════════════════»\n",
       "                                                                              »\n",
       "meas: 3/══════════════════════════════════════════════════════════════════════»\n",
       "                                                                              »\n",
       "«              ░  ░ ┌─┐      \n",
       "«  q0_0: ──────░──░─┤M├──────\n",
       "«              ░  ░ └╥┘┌─┐   \n",
       "«  q0_1: ──────░──░──╫─┤M├───\n",
       "«        ┌───┐ ░  ░  ║ └╥┘┌─┐\n",
       "«  q0_2: ┤ H ├─░──░──╫──╫─┤M├\n",
       "«        └───┘ ░  ░  ║  ║ └╥┘\n",
       "«  c0: 3/════════════╬══╬══╬═\n",
       "«                    ║  ║  ║ \n",
       "«meas: 3/════════════╩══╩══╩═\n",
       "«                    0  1  2 </pre>"
      ],
      "text/plain": [
       "        ┌───┐ ░          ░               ░ ┌───┐┌───┐               ┌───┐┌───┐»\n",
       "  q0_0: ┤ H ├─░───────■──░────────────■──░─┤ H ├┤ X ├────────────■──┤ X ├┤ H ├»\n",
       "        ├───┤ ░ ┌───┐ │  ░ ┌───┐┌───┐ │  ░ ├───┤├───┤┌───┐       │  ├───┤├───┤»\n",
       "  q0_1: ┤ H ├─░─┤ X ├─■──░─┤ X ├┤ X ├─■──░─┤ X ├┤ H ├┤ X ├───────■──┤ X ├┤ H ├»\n",
       "        ├───┤ ░ └───┘ │  ░ ├───┤└───┘ │  ░ ├───┤├───┤├───┤┌───┐┌─┴─┐├───┤├───┤»\n",
       "  q0_2: ┤ H ├─░───────■──░─┤ X ├──────■──░─┤ X ├┤ H ├┤ X ├┤ H ├┤ X ├┤ H ├┤ X ├»\n",
       "        └───┘ ░          ░ └───┘         ░ └───┘└───┘└───┘└───┘└───┘└───┘└───┘»\n",
       "  c0: 3/══════════════════════════════════════════════════════════════════════»\n",
       "                                                                              »\n",
       "meas: 3/══════════════════════════════════════════════════════════════════════»\n",
       "                                                                              »\n",
       "«              ░  ░ ┌─┐      \n",
       "«  q0_0: ──────░──░─┤M├──────\n",
       "«              ░  ░ └╥┘┌─┐   \n",
       "«  q0_1: ──────░──░──╫─┤M├───\n",
       "«        ┌───┐ ░  ░  ║ └╥┘┌─┐\n",
       "«  q0_2: ┤ H ├─░──░──╫──╫─┤M├\n",
       "«        └───┘ ░  ░  ║  ║ └╥┘\n",
       "«  c0: 3/════════════╬══╬══╬═\n",
       "«                    ║  ║  ║ \n",
       "«meas: 3/════════════╩══╩══╩═\n",
       "«                    0  1  2 "
      ]
     },
     "execution_count": 13,
     "metadata": {},
     "output_type": "execute_result"
    }
   ],
   "source": [
    "circuit.draw()"
   ]
  },
  {
   "cell_type": "code",
   "execution_count": 14,
   "metadata": {},
   "outputs": [
    {
     "data": {
      "image/png": "[encoded data removed]",
      "text/plain": [
       "<Figure size 504x360 with 1 Axes>"
      ]
     },
     "execution_count": 14,
     "metadata": {},
     "output_type": "execute_result"
    }
   ],
   "source": [
    "qasm_sim = Aer.get_backend('qasm_simulator')\n",
    "transpiled_grover_circuit = transpile(circuit, qasm_sim)\n",
    "results = qasm_sim.run(transpiled_grover_circuit).result()\n",
    "counts = results.get_counts()\n",
    "plot_histogram(counts)\n"
   ]
  }
 ],
 "metadata": {
  "kernelspec": {
   "display_name": "py36",
   "language": "python",
   "name": "python3"
  },
  "language_info": {
   "codemirror_mode": {
    "name": "ipython",
    "version": 3
   },
   "file_extension": ".py",
   "mimetype": "text/x-python",
   "name": "python",
   "nbconvert_exporter": "python",
   "pygments_lexer": "ipython3",
   "version": "3.6.13"
  }
 },
 "nbformat": 4,
 "nbformat_minor": 2
}
