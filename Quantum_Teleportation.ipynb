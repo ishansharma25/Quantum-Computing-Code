{
 "cells": [
  {
   "cell_type": "code",
   "execution_count": 3,
   "metadata": {},
   "outputs": [],
   "source": [
    "from qiskit import*\n",
    "from qiskit.visualization import plot_histogram"
   ]
  },
  {
   "cell_type": "markdown",
   "metadata": {},
   "source": [
    "Quantum teleportation:To transmit one qubit using two quantum bits"
   ]
  },
  {
   "cell_type": "code",
   "execution_count": 4,
   "metadata": {},
   "outputs": [],
   "source": [
    "qr=QuantumRegister(3)\n",
    "cr0=ClassicalRegister(1)\n",
    "cr1=ClassicalRegister(1)\n",
    "cr2=ClassicalRegister(1)\n",
    "circuit=QuantumCircuit(qr,cr0,cr1,cr2)"
   ]
  },
  {
   "cell_type": "code",
   "execution_count": 5,
   "metadata": {},
   "outputs": [
    {
     "data": {
      "text/plain": [
       "<qiskit.circuit.instructionset.InstructionSet at 0x297a3820948>"
      ]
     },
     "execution_count": 5,
     "metadata": {},
     "output_type": "execute_result"
    }
   ],
   "source": [
    "circuit.x(qr[0])#modifyable\n",
    "circuit.h(qr[1])\n",
    "circuit.cx(qr[1],qr[2])\n",
    "circuit.cx(qr[0],qr[1])\n",
    "circuit.h(qr[0])\n",
    "circuit.measure(qr[0],cr0[0])\n",
    "circuit.measure(qr[1],cr1[0])\n",
    "circuit.z(qr[2]).c_if(cr0,1)\n",
    "circuit.x(qr[2]).c_if(cr1,1)\n",
    "circuit.measure(qr[2],cr2[0])"
   ]
  },
  {
   "cell_type": "code",
   "execution_count": 6,
   "metadata": {},
   "outputs": [
    {
     "data": {
      "text/html": [
       "<pre style=\"word-wrap: normal;white-space: pre;background: #fff0;line-height: 1.1;font-family: &quot;Courier New&quot;,Courier,monospace\">      ┌───┐          ┌───┐┌─┐                 \n",
       "q0_0: ┤ X ├───────■──┤ H ├┤M├─────────────────\n",
       "      ├───┤     ┌─┴─┐└┬─┬┘└╥┘                 \n",
       "q0_1: ┤ H ├──■──┤ X ├─┤M├──╫──────────────────\n",
       "      └───┘┌─┴─┐└───┘ └╥┘  ║  ┌───┐  ┌───┐ ┌─┐\n",
       "q0_2: ─────┤ X ├───────╫───╫──┤ Z ├──┤ X ├─┤M├\n",
       "           └───┘       ║   ║  └─╥─┘  └─╥─┘ └╥┘\n",
       "                       ║   ║ ┌──╨──┐   ║    ║ \n",
       "c0: 1/═════════════════╬═══╩═╡ 0x1 ╞═══╬════╬═\n",
       "                       ║   0 └─────┘┌──╨──┐ ║ \n",
       "c1: 1/═════════════════╩════════════╡ 0x1 ╞═╬═\n",
       "                       0            └─────┘ ║ \n",
       "c2: 1/══════════════════════════════════════╩═\n",
       "                                            0 </pre>"
      ],
      "text/plain": [
       "      ┌───┐          ┌───┐┌─┐                 \n",
       "q0_0: ┤ X ├───────■──┤ H ├┤M├─────────────────\n",
       "      ├───┤     ┌─┴─┐└┬─┬┘└╥┘                 \n",
       "q0_1: ┤ H ├──■──┤ X ├─┤M├──╫──────────────────\n",
       "      └───┘┌─┴─┐└───┘ └╥┘  ║  ┌───┐  ┌───┐ ┌─┐\n",
       "q0_2: ─────┤ X ├───────╫───╫──┤ Z ├──┤ X ├─┤M├\n",
       "           └───┘       ║   ║  └─╥─┘  └─╥─┘ └╥┘\n",
       "                       ║   ║ ┌──╨──┐   ║    ║ \n",
       "c0: 1/═════════════════╬═══╩═╡ 0x1 ╞═══╬════╬═\n",
       "                       ║   0 └─────┘┌──╨──┐ ║ \n",
       "c1: 1/═════════════════╩════════════╡ 0x1 ╞═╬═\n",
       "                       0            └─────┘ ║ \n",
       "c2: 1/══════════════════════════════════════╩═\n",
       "                                            0 "
      ]
     },
     "execution_count": 6,
     "metadata": {},
     "output_type": "execute_result"
    }
   ],
   "source": [
    "circuit.draw()"
   ]
  },
  {
   "cell_type": "code",
   "execution_count": 7,
   "metadata": {},
   "outputs": [
    {
     "name": "stdout",
     "output_type": "stream",
     "text": [
      "{'1 1 1': 273, '1 0 0': 250, '1 0 1': 236, '1 1 0': 265}\n"
     ]
    },
    {
     "data": {
      "image/png": "[encoded data removed]",
      "text/plain": [
       "<Figure size 504x360 with 1 Axes>"
      ]
     },
     "execution_count": 7,
     "metadata": {},
     "output_type": "execute_result"
    }
   ],
   "source": [
    "aer_sim = Aer.get_backend('aer_simulator')\n",
    "result = aer_sim.run(circuit).result()\n",
    "counts = result.get_counts(circuit)\n",
    "print(counts)\n",
    "plot_histogram(counts)\n"
   ]
  }
 ],
 "metadata": {
  "kernelspec": {
   "display_name": "py36",
   "language": "python",
   "name": "python3"
  },
  "language_info": {
   "codemirror_mode": {
    "name": "ipython",
    "version": 3
   },
   "file_extension": ".py",
   "mimetype": "text/x-python",
   "name": "python",
   "nbconvert_exporter": "python",
   "pygments_lexer": "ipython3",
   "version": "3.6.13"
  }
 },
 "nbformat": 4,
 "nbformat_minor": 2
}
