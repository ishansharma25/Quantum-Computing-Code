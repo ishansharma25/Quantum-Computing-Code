{
 "cells": [
  {
   "cell_type": "code",
   "execution_count": 1,
   "metadata": {},
   "outputs": [],
   "source": [
    "from qiskit import*"
   ]
  },
  {
   "cell_type": "code",
   "execution_count": 2,
   "metadata": {},
   "outputs": [
    {
     "name": "stdout",
     "output_type": "stream",
     "text": [
      "Alice's State:\t [1 0 1 0 1 0 1 0 1 0 1 1 0 1 0 0 0 1 1 0 0 0 0 1 1 0 1 0 1 1 1 0]\n",
      "Alice's Bases:\t [1 0 0 1 0 1 1 1 1 1 1 0 1 0 1 0 1 1 0 1 0 0 0 1 0 1 0 1 1 0 1 0]\n",
      "Bob's Bases:\t [0 0 1 1 0 0 0 1 1 1 0 0 1 1 0 0 1 0 0 0 0 1 0 1 1 0 0 1 0 1 0 0]\n"
     ]
    }
   ],
   "source": [
    "num_qubits = 32\n",
    "import numpy as np\n",
    "alice_basis = np.random.randint(2, size=num_qubits)\n",
    "alice_state = np.random.randint(2, size=num_qubits)\n",
    "bob_basis = np.random.randint(2, size=num_qubits)\n",
    "print(f\"Alice's State:\\t {np.array2string(alice_state)}\")\n",
    "print(f\"Alice's Bases:\\t {np.array2string(alice_basis)}\")\n",
    "print(f\"Bob's Bases:\\t {np.array2string(bob_basis)}\")"
   ]
  },
  {
   "cell_type": "code",
   "execution_count": 3,
   "metadata": {},
   "outputs": [],
   "source": [
    "def bb84_circuit1(state,basis,measurement_basis):\n",
    "    n=len(state)\n",
    "    bb84_circuit = QuantumCircuit(num_qubits)\n",
    "    for i in range(len(basis)):\n",
    "        if state[i] == 1:\n",
    "            bb84_circuit.x(i)\n",
    "        if basis[i] == 1:\n",
    "            bb84_circuit.h(i)\n",
    "    for i in range(len(measurement_basis)):\n",
    "        if measurement_basis[i] == 1:\n",
    "            bb84_circuit.h(i)\n",
    "    bb84_circuit.measure_all()\n",
    "    return bb84_circuit        \n",
    "    "
   ]
  },
  {
   "cell_type": "code",
   "execution_count": 5,
   "metadata": {},
   "outputs": [
    {
     "name": "stdout",
     "output_type": "stream",
     "text": [
      "Key: 00101010001001100\n"
     ]
    }
   ],
   "source": [
    "circuit = bb84_circuit1(alice_state, alice_basis, bob_basis)\n",
    "qasm_sim = Aer.get_backend('qasm_simulator')\n",
    "key = execute(circuit.reverse_bits(),backend=qasm_sim ,shots=1).result().get_counts().most_frequent()\n",
    "encryption_key = ''\n",
    "for i in range(len(alice_state)):\n",
    "    if alice_basis[i] == bob_basis[i]:\n",
    "         encryption_key += str(key[i])\n",
    "print(f\"Key: {encryption_key}\")"
   ]
  }
 ],
 "metadata": {
  "kernelspec": {
   "display_name": "py36",
   "language": "python",
   "name": "python3"
  },
  "language_info": {
   "codemirror_mode": {
    "name": "ipython",
    "version": 3
   },
   "file_extension": ".py",
   "mimetype": "text/x-python",
   "name": "python",
   "nbconvert_exporter": "python",
   "pygments_lexer": "ipython3",
   "version": "3.6.13"
  }
 },
 "nbformat": 4,
 "nbformat_minor": 2
}
