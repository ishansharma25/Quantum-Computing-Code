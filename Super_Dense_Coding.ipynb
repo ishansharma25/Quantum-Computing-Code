{
 "cells": [
  {
   "cell_type": "markdown",
   "metadata": {},
   "source": [
    "Super Dense Coding:To transport two clasical qubits using one qubit"
   ]
  },
  {
   "cell_type": "code",
   "execution_count": 2,
   "metadata": {},
   "outputs": [],
   "source": [
    "from qiskit import*\n",
    "from qiskit.visualization import plot_histogram"
   ]
  },
  {
   "cell_type": "code",
   "execution_count": 25,
   "metadata": {},
   "outputs": [],
   "source": [
    "#define circuit\n",
    "qr=QuantumRegister(2)\n",
    "cr=ClassicalRegister(2)\n",
    "circuit=QuantumCircuit(qr,cr)"
   ]
  },
  {
   "cell_type": "code",
   "execution_count": 26,
   "metadata": {},
   "outputs": [],
   "source": [
    "#The bits you want to tranmit i.e 00,01,10,11\n",
    "x=1\n",
    "y=0"
   ]
  },
  {
   "cell_type": "code",
   "execution_count": 27,
   "metadata": {},
   "outputs": [
    {
     "data": {
      "text/plain": [
       "<qiskit.circuit.instructionset.InstructionSet at 0x207da273120>"
      ]
     },
     "execution_count": 27,
     "metadata": {},
     "output_type": "execute_result"
    }
   ],
   "source": [
    "circuit.h(qr[0])\n",
    "circuit.cx(qr[0],qr[1])"
   ]
  },
  {
   "cell_type": "code",
   "execution_count": 28,
   "metadata": {},
   "outputs": [],
   "source": [
    "#operation to be perfomed\n",
    "if x==0:\n",
    "    circuit.i(qr[0])#identity gate\n",
    "else:\n",
    "    circuit.z(qr[0])#z gate\n",
    "if y==0:\n",
    "    circuit.i(qr[0])\n",
    "else:\n",
    "    circuit.x(qr[0])#xgate\n"
   ]
  },
  {
   "cell_type": "code",
   "execution_count": 29,
   "metadata": {},
   "outputs": [
    {
     "data": {
      "text/plain": [
       "<qiskit.circuit.instructionset.InstructionSet at 0x207da2731f8>"
      ]
     },
     "execution_count": 29,
     "metadata": {},
     "output_type": "execute_result"
    }
   ],
   "source": [
    "circuit.cx(qr[0],qr[1])\n",
    "circuit.h(qr[0])"
   ]
  },
  {
   "cell_type": "code",
   "execution_count": 30,
   "metadata": {},
   "outputs": [
    {
     "data": {
      "text/plain": [
       "<qiskit.circuit.instructionset.InstructionSet at 0x207da1d1828>"
      ]
     },
     "execution_count": 30,
     "metadata": {},
     "output_type": "execute_result"
    }
   ],
   "source": [
    "circuit.measure(qr[0],cr[0])\n",
    "circuit.measure(qr[1],cr[1])"
   ]
  },
  {
   "cell_type": "code",
   "execution_count": 9,
   "metadata": {},
   "outputs": [
    {
     "data": {
      "text/html": [
       "<pre style=\"word-wrap: normal;white-space: pre;background: #fff0;line-height: 1.1;font-family: &quot;Courier New&quot;,Courier,monospace\">      ┌───┐     ┌───┐┌───┐     ┌───┐┌─┐\n",
       "q0_0: ┤ H ├──■──┤ Z ├┤ X ├──■──┤ H ├┤M├\n",
       "      └───┘┌─┴─┐└───┘└───┘┌─┴─┐└┬─┬┘└╥┘\n",
       "q0_1: ─────┤ X ├──────────┤ X ├─┤M├──╫─\n",
       "           └───┘          └───┘ └╥┘  ║ \n",
       "c0: 2/═══════════════════════════╩═══╩═\n",
       "                                 1   0 </pre>"
      ],
      "text/plain": [
       "      ┌───┐     ┌───┐┌───┐     ┌───┐┌─┐\n",
       "q0_0: ┤ H ├──■──┤ Z ├┤ X ├──■──┤ H ├┤M├\n",
       "      └───┘┌─┴─┐└───┘└───┘┌─┴─┐└┬─┬┘└╥┘\n",
       "q0_1: ─────┤ X ├──────────┤ X ├─┤M├──╫─\n",
       "           └───┘          └───┘ └╥┘  ║ \n",
       "c0: 2/═══════════════════════════╩═══╩═\n",
       "                                 1   0 "
      ]
     },
     "execution_count": 9,
     "metadata": {},
     "output_type": "execute_result"
    }
   ],
   "source": [
    "circuit.draw()\n",
    "#when 11 is transmited"
   ]
  },
  {
   "cell_type": "code",
   "execution_count": 17,
   "metadata": {},
   "outputs": [
    {
     "data": {
      "text/html": [
       "<pre style=\"word-wrap: normal;white-space: pre;background: #fff0;line-height: 1.1;font-family: &quot;Courier New&quot;,Courier,monospace\">      ┌───┐     ┌───┐┌───┐     ┌───┐┌─┐\n",
       "q1_0: ┤ H ├──■──┤ I ├┤ I ├──■──┤ H ├┤M├\n",
       "      └───┘┌─┴─┐└───┘└───┘┌─┴─┐└┬─┬┘└╥┘\n",
       "q1_1: ─────┤ X ├──────────┤ X ├─┤M├──╫─\n",
       "           └───┘          └───┘ └╥┘  ║ \n",
       "c1: 2/═══════════════════════════╩═══╩═\n",
       "                                 1   0 </pre>"
      ],
      "text/plain": [
       "      ┌───┐     ┌───┐┌───┐     ┌───┐┌─┐\n",
       "q1_0: ┤ H ├──■──┤ I ├┤ I ├──■──┤ H ├┤M├\n",
       "      └───┘┌─┴─┐└───┘└───┘┌─┴─┐└┬─┬┘└╥┘\n",
       "q1_1: ─────┤ X ├──────────┤ X ├─┤M├──╫─\n",
       "           └───┘          └───┘ └╥┘  ║ \n",
       "c1: 2/═══════════════════════════╩═══╩═\n",
       "                                 1   0 "
      ]
     },
     "execution_count": 17,
     "metadata": {},
     "output_type": "execute_result"
    }
   ],
   "source": [
    "circuit.draw()\n",
    "#when 00 is transmitted"
   ]
  },
  {
   "cell_type": "code",
   "execution_count": 24,
   "metadata": {},
   "outputs": [
    {
     "data": {
      "text/html": [
       "<pre style=\"word-wrap: normal;white-space: pre;background: #fff0;line-height: 1.1;font-family: &quot;Courier New&quot;,Courier,monospace\">      ┌───┐     ┌───┐┌───┐     ┌───┐┌─┐\n",
       "q2_0: ┤ H ├──■──┤ I ├┤ X ├──■──┤ H ├┤M├\n",
       "      └───┘┌─┴─┐└───┘└───┘┌─┴─┐└┬─┬┘└╥┘\n",
       "q2_1: ─────┤ X ├──────────┤ X ├─┤M├──╫─\n",
       "           └───┘          └───┘ └╥┘  ║ \n",
       "c2: 2/═══════════════════════════╩═══╩═\n",
       "                                 1   0 </pre>"
      ],
      "text/plain": [
       "      ┌───┐     ┌───┐┌───┐     ┌───┐┌─┐\n",
       "q2_0: ┤ H ├──■──┤ I ├┤ X ├──■──┤ H ├┤M├\n",
       "      └───┘┌─┴─┐└───┘└───┘┌─┴─┐└┬─┬┘└╥┘\n",
       "q2_1: ─────┤ X ├──────────┤ X ├─┤M├──╫─\n",
       "           └───┘          └───┘ └╥┘  ║ \n",
       "c2: 2/═══════════════════════════╩═══╩═\n",
       "                                 1   0 "
      ]
     },
     "execution_count": 24,
     "metadata": {},
     "output_type": "execute_result"
    }
   ],
   "source": [
    "circuit.draw()\n",
    "#when 01 is transmitted"
   ]
  },
  {
   "cell_type": "code",
   "execution_count": 31,
   "metadata": {},
   "outputs": [
    {
     "data": {
      "text/html": [
       "<pre style=\"word-wrap: normal;white-space: pre;background: #fff0;line-height: 1.1;font-family: &quot;Courier New&quot;,Courier,monospace\">      ┌───┐     ┌───┐┌───┐     ┌───┐┌─┐\n",
       "q3_0: ┤ H ├──■──┤ Z ├┤ I ├──■──┤ H ├┤M├\n",
       "      └───┘┌─┴─┐└───┘└───┘┌─┴─┐└┬─┬┘└╥┘\n",
       "q3_1: ─────┤ X ├──────────┤ X ├─┤M├──╫─\n",
       "           └───┘          └───┘ └╥┘  ║ \n",
       "c3: 2/═══════════════════════════╩═══╩═\n",
       "                                 1   0 </pre>"
      ],
      "text/plain": [
       "      ┌───┐     ┌───┐┌───┐     ┌───┐┌─┐\n",
       "q3_0: ┤ H ├──■──┤ Z ├┤ I ├──■──┤ H ├┤M├\n",
       "      └───┘┌─┴─┐└───┘└───┘┌─┴─┐└┬─┬┘└╥┘\n",
       "q3_1: ─────┤ X ├──────────┤ X ├─┤M├──╫─\n",
       "           └───┘          └───┘ └╥┘  ║ \n",
       "c3: 2/═══════════════════════════╩═══╩═\n",
       "                                 1   0 "
      ]
     },
     "execution_count": 31,
     "metadata": {},
     "output_type": "execute_result"
    }
   ],
   "source": [
    "circuit.draw()\n",
    "#when 10 is transmitted"
   ]
  }
 ],
 "metadata": {
  "kernelspec": {
   "display_name": "py36",
   "language": "python",
   "name": "python3"
  },
  "language_info": {
   "codemirror_mode": {
    "name": "ipython",
    "version": 3
   },
   "file_extension": ".py",
   "mimetype": "text/x-python",
   "name": "python",
   "nbconvert_exporter": "python",
   "pygments_lexer": "ipython3",
   "version": "3.6.13"
  }
 },
 "nbformat": 4,
 "nbformat_minor": 2
}
